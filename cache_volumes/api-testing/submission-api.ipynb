{
 "cells": [
  {
   "cell_type": "markdown",
   "metadata": {},
   "source": [
    "# Submission API Testing Starter Pack\n",
    "\n",
    "CRDS env vars need to be set on the command line before starting the notebook:\n",
    "\n",
    "```bash\n",
    "$ export CRDS_PATH=/home/developer/cache_volumes/crds-cache-default-test\n",
    "$ export CRDS_SERVER_URL=https://roman-crds-dev.stsci.edu\n",
    "$ export CRDS_CONTEXT=roman_0039.pmap\n",
    "```\n",
    "\n",
    "For submission testing, you may also want to create and set a MAST auth token:\n",
    "\n",
    "https://auth.mast.stsci.edu/token\n",
    "\n",
    "```bash\n",
    "export MAST_API_TOKEN=\"1234567abcde\"\n",
    "```"
   ]
  },
  {
   "cell_type": "code",
   "execution_count": null,
   "metadata": {},
   "outputs": [],
   "source": [
    "# IMPORT LIBRARIES\n",
    "\n",
    "import os\n",
    "import crds\n",
    "from crds import log\n",
    "from crds.submit import rc_submit\n",
    "from pprint import pprint as pp"
   ]
  },
  {
   "cell_type": "code",
   "execution_count": null,
   "metadata": {},
   "outputs": [],
   "source": [
    "\n",
    "log.set_verbose(0)   # 80 for debugging web activity, 0 for no debug, 50 for basic flow"
   ]
  },
  {
   "cell_type": "code",
   "execution_count": null,
   "metadata": {},
   "outputs": [],
   "source": [
    "# ENVIRONMENT SETUP\n",
    "\n",
    "HOME = %pwd\n",
    "CACHE_VOL = os.path.join(HOME, \"cache_volumes\")\n",
    "PROJECT = 'roman'   # hst, jwst, roman\n",
    "SERVER = 'dev'    # dev, test, cit\n",
    "CONTEXT = f\"{PROJECT}-edit\" # -edit, -operational, or _number like \"_0038\"\n",
    "\n",
    "#https://auth.mast.stsci.edu/token\n",
    "MAST_API_TOKEN = os.environ[\"MAST_API_TOKEN\"]\n",
    "\n",
    "# use the test suite cache or create a new folder\n",
    "CRDS_PATH = os.path.join(HOME, \"cache_volumes\", \"crds-cache-default-test\")\n",
    "APICACHE = os.path.join(CACHE_VOL, \"apicache\")\n",
    "TESTDATA = os.path.join(CACHE_VOL, \"testdata\")\n",
    "os.makedirs(APICACHE, exist_ok=True)\n",
    "os.makedirs(TESTDATA, exist_ok=True)\n",
    "\n",
    "\n",
    "os.environ[\"CRDS_SERVER_URL\"] = \"https://\" + PROJECT + \"-crds-\" + SERVER + \".stsci.edu\"\n",
    "os.environ[\"CRDS_PATH\"] = CRDS_PATH # or APICACHE"
   ]
  },
  {
   "cell_type": "code",
   "execution_count": null,
   "metadata": {},
   "outputs": [],
   "source": [
    "# CRDS STATUS CHECK\n",
    "\n",
    "! crds list --status\n",
    "\n",
    "# CRDS Summary = 'The __rationale__ variable is no longer maintained and will be removed in a future release.'\n",
    "# CRDS Version = '11.16.15.dev3+g739ffdd3.d20221018, b11.4.0, 64d96076d89b32a5687a6b77bb910ab93b3a99b3'\n",
    "# CRDS_MODE = 'auto'\n",
    "# CRDS_PATH = '/home/developer/cache_volumes/crds-cache-default-test'\n",
    "# CRDS_SERVER_URL = 'https://roman-crds-dev.stsci.edu'\n",
    "# Cache Locking = 'enabled, multiprocessing'\n",
    "# Effective Context = 'roman_0039.pmap'\n",
    "# Last Synced = '2022-10-18 18:49:15.168687'\n",
    "# Python Executable = '/home/developer/venv/bin/python3'\n",
    "# Python Version = '3.9.2.final.0'\n",
    "# Readonly Cache = False"
   ]
  },
  {
   "cell_type": "code",
   "execution_count": null,
   "metadata": {},
   "outputs": [],
   "source": [
    "# TRY SYNCING CACHE WITH SERVER\n",
    "# CONTEXT = roman-edit\n",
    "! crds sync --contexts CONTEXT --repair-files --purge-mappings --purge-references\n",
    "\n",
    "# CRDS - INFO -  Symbolic context 'roman-edit' resolves to 'roman_0044.pmap'\n",
    "# CRDS - INFO -  Removing all context pickles.  Use --save-pickles to recreate for specified contexts.\n",
    "# CRDS - INFO -  Fetching  /home/developer/cache_volumes/crds-cache-default-test/mappings/roman/roman_wfi_distortion_0008.rmap    3.8 K bytes  (1 / 3 files) (0 / 4.9 K bytes)\n",
    "# CRDS - INFO -  Fetching  /home/developer/cache_volumes/crds-cache-default-test/mappings/roman/roman_wfi_0042.imap      741 bytes  (2 / 3 files) (3.8 K / 4.9 K bytes)\n",
    "# CRDS - INFO -  Fetching  /home/developer/cache_volumes/crds-cache-default-test/mappings/roman/roman_0044.pmap      364 bytes  (3 / 3 files) (4.6 K / 4.9 K bytes)\n",
    "# CRDS - INFO -  0 errors\n",
    "# CRDS - INFO -  0 warnings\n",
    "# CRDS - INFO -  5 infos"
   ]
  },
  {
   "cell_type": "markdown",
   "metadata": {},
   "source": [
    "## Submission Testing\n",
    "\n",
    "1. Create submission object\n",
    "2. Update fields\n",
    "3. Add file(s)\n",
    "4. Submit\n",
    "5. (optional) Confirm submission and check filemap"
   ]
  },
  {
   "cell_type": "code",
   "execution_count": null,
   "metadata": {},
   "outputs": [],
   "source": [
    "# 1. create a submission object\n",
    "\n",
    "submission = rc_submit.Submission(PROJECT, SERVER)"
   ]
  },
  {
   "cell_type": "code",
   "execution_count": null,
   "metadata": {},
   "outputs": [],
   "source": [
    "# 2. update fields\n",
    "\n",
    "submission[\"deliverer\"] = \"rkein\"\n",
    "submission[\"other_email\"] = \"\"\n",
    "submission[\"file_type\"] = \"distortion\"\n",
    "submission[\"history_updated\"] = True\n",
    "submission[\"descrip_updated\"] = True\n",
    "submission[\"useafter_updated\"] = True\n",
    "submission[\"useafter_matches\"] = True\n",
    "submission[\"pedigree_updated\"] = True\n",
    "submission[\"keywords_checked\"] = True\n",
    "submission[\"compliance_verified\"] = True\n",
    "submission[\"ingest_files\"] = True\n",
    "submission[\"etc_delivery\"] = False\n",
    "submission[\"calpipe_version\"] = \"xxx, 1.0\"\n",
    "submission[\"replacement_files\"] = False\n",
    "submission[\"old_reference_files\"] = \"xxx\"\n",
    "submission[\"replacing_badfiles\"] = False\n",
    "submission[\"jira_issue\"] = \"\"\n",
    "submission[\"table_rows_changed\"] = \"xxx\"\n",
    "submission[\"modes_affected\"] = \"xxxx\"\n",
    "submission[\"correctness_testing\"] = \"lots\"\n",
    "submission[\"additional_considerations\"] = \"a few\"\n",
    "submission[\"change_level\"] = \"SEVERE\"\n",
    "submission[\"description\"] = \"roman submission api test\"\n",
    "submission[\"instrument\"] = \"wfi\""
   ]
  },
  {
   "cell_type": "code",
   "execution_count": null,
   "metadata": {},
   "outputs": [],
   "source": [
    "# 3. add file(s)\n",
    "f = f\"{APICACHE}/roman/roman_wfi_distortion_nine.asdf\"\n",
    "submission.add_file(f)"
   ]
  },
  {
   "cell_type": "code",
   "execution_count": null,
   "metadata": {},
   "outputs": [],
   "source": [
    "result = submission.submit()"
   ]
  },
  {
   "cell_type": "code",
   "execution_count": null,
   "metadata": {},
   "outputs": [],
   "source": [
    "# submission.update_filemap()\n",
    "submission.file_map\n",
    "\n",
    "# {'roman_wfi_distortion_nine.asdf': 'roman_wfi_distortion_0028.asdf',\n",
    "#  'roman_0048.pmap': 'roman_0049.pmap',\n",
    "#  'roman_wfi_0046.imap': 'roman_wfi_0047.imap',\n",
    "#  'roman_wfi_distortion_0012.rmap': 'roman_wfi_distortion_0013.rmap'}"
   ]
  }
 ],
 "metadata": {
  "kernelspec": {
   "display_name": "Python 3.8.11 ('base')",
   "language": "python",
   "name": "python3"
  },
  "language_info": {
   "name": "python",
   "version": "3.8.11"
  },
  "orig_nbformat": 4,
  "vscode": {
   "interpreter": {
    "hash": "ccd9a86c224ddb65511baccfbc7149f623736c0082d52ad08a98082ff67c9019"
   }
  }
 },
 "nbformat": 4,
 "nbformat_minor": 2
}
